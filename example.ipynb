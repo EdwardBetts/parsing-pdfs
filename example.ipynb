{
 "cells": [
  {
   "cell_type": "markdown",
   "metadata": {},
   "source": [
    "# Short example on how to parse a whole file\n",
    "\n",
    "In my main blog post I walked though the steps of how I managed to extract tabular data from a PDF. I wrapped the whole thing in a few functions to make extracting from an entire file possible.\n",
    "\n",
    "First we impore the relevant function:"
   ]
  },
  {
   "cell_type": "code",
   "execution_count": 1,
   "metadata": {
    "collapsed": true
   },
   "outputs": [],
   "source": [
    "from PDFFixup.fixer import get_tables"
   ]
  },
  {
   "cell_type": "markdown",
   "metadata": {},
   "source": [
    "Next we run it over the whole file:"
   ]
  },
  {
   "cell_type": "code",
   "execution_count": 2,
   "metadata": {
    "collapsed": true
   },
   "outputs": [],
   "source": [
    "file_path = \"data/DH_Ministerial_gifts_hospitality_travel_and_external_meetings_Jan_to_Mar_2015.pdf\"\n",
    "extracted_table = get_tables(file_path)"
   ]
  },
  {
   "cell_type": "code",
   "execution_count": 3,
   "metadata": {
    "collapsed": false
   },
   "outputs": [
    {
     "data": {
      "text/plain": [
       "12"
      ]
     },
     "execution_count": 3,
     "metadata": {},
     "output_type": "execute_result"
    }
   ],
   "source": [
    "len(extracted_table)"
   ]
  },
  {
   "cell_type": "markdown",
   "metadata": {},
   "source": [
    "The returned object is a list of pages, each page containing the tabular data:"
   ]
  },
  {
   "cell_type": "code",
   "execution_count": 4,
   "metadata": {
    "collapsed": false
   },
   "outputs": [
    {
     "data": {
      "text/plain": [
       "[[u'Earl Howe, Parliamentary-under-Secretary of State for Quality  '],\n",
       " [u'Date ', u'Name of Organisation  ', u'Type of Hospitality Received   '],\n",
       " [u'4 February 2015 ', u'College of Emergency Medicine ', u'Dinner '],\n",
       " [u' Jane Ellison MP, Parliamentary Under Secretary of State for Public Health'],\n",
       " [u'Date ', u'Name of Organisation  ', u'Type of Hospitality Received   '],\n",
       " [u'Nil ', u' ', u' '],\n",
       " [u'The Rt Hon Jeremy Hunt, Secretary of State for Health  '],\n",
       " [u'Date(s) of trip ',\n",
       "  u'Destination   ',\n",
       "  u'Purpose of trip ',\n",
       "  u'\\u2018Scheduled\\u2019 \\u2018No 32 (The Royal) Squadron\\u2019 or \\u2018other RAF\\u2019 or \\u2018Chartered\\u2019 or \\u2018Eurostar\\u2019  ',\n",
       "  u'Number of officials accompanying Minister, where non-scheduled travel is used    ',\n",
       "  u'Total cost including travel, and accommodation of Minister only '],\n",
       " [u'16 \\u2013 17 March 2015 ',\n",
       "  u'Geneva, Switzerland ',\n",
       "  u'To attend a World Health Organisation summit ',\n",
       "  u'Scheduled ',\n",
       "  u' ',\n",
       "  u' ',\n",
       "  u'\\xa3265 '],\n",
       " [u'Dr. Dan Poulte / Parliamentary Under-Secretary for State for Health  '],\n",
       " [u'Date(s) of trip ',\n",
       "  u'Destination   ',\n",
       "  u'Purpose of trip ',\n",
       "  u'\\u2018Scheduled\\u2019 \\u2018No 32 (The Royal) Squadron\\u2019 or \\u2018other RAF\\u2019 or \\u2018Chartered\\u2019 or \\u2018Eurostar\\u2019   ',\n",
       "  u'Number of officials accompanying Minister, where non-scheduled travel is used    ',\n",
       "  u'Total cost including travel, and accommodation of Minister only '],\n",
       " [u'Nil ', u' ', u' ', u' ', u' ', u' '],\n",
       " [u'r'],\n",
       " ['']]"
      ]
     },
     "execution_count": 4,
     "metadata": {},
     "output_type": "execute_result"
    }
   ],
   "source": [
    "extracted_table[2]"
   ]
  },
  {
   "cell_type": "markdown",
   "metadata": {},
   "source": [
    "To get things into a format that can be dumped into csv, we need to do a bit more work. The lists returned for each row can be different lengths. This reflects different sizes of the column widths in the original tables. To get around this we simply pad each row to the same length. The code below will do this, concatenate the pages and save the whole thing as a csv file:"
   ]
  },
  {
   "cell_type": "code",
   "execution_count": 5,
   "metadata": {
    "collapsed": false
   },
   "outputs": [],
   "source": [
    "def table_to_csv(extracted_table):\n",
    "    max_length = 0\n",
    "    \n",
    "    #concatenate the pages\n",
    "    concatenated_table = [row for page in extracted_table for row in page]\n",
    "    \n",
    "    #find the maximum length\n",
    "    for row in concatenated_table:\n",
    "        if len(row) > max_length:\n",
    "            max_length = len(row)\n",
    "            \n",
    "    # convert to string\n",
    "    out = \"\"\n",
    "    for row in concatenated_table:\n",
    "        # pad the row \n",
    "        if len(row) < max_length:\n",
    "            row += [\"\"] * (max_length - len(row))\n",
    "                           \n",
    "        out += \",\".join(row) + \"\\n\"\n",
    "    \n",
    "    return out"
   ]
  },
  {
   "cell_type": "code",
   "execution_count": 6,
   "metadata": {
    "collapsed": false
   },
   "outputs": [],
   "source": [
    "csved = table_to_csv(extracted_table)\n",
    "\n",
    "# Note: you might want to change the encoding, depending on what format your document is\n",
    "open(\"data/example_out.csv\", \"wb\").write(csved.encode(\"utf-8\"))"
   ]
  }
 ],
 "metadata": {
  "kernelspec": {
   "display_name": "Python 2",
   "language": "python",
   "name": "python2"
  },
  "language_info": {
   "codemirror_mode": {
    "name": "ipython",
    "version": 2
   },
   "file_extension": ".py",
   "mimetype": "text/x-python",
   "name": "python",
   "nbconvert_exporter": "python",
   "pygments_lexer": "ipython2",
   "version": "2.7.11+"
  }
 },
 "nbformat": 4,
 "nbformat_minor": 0
}
